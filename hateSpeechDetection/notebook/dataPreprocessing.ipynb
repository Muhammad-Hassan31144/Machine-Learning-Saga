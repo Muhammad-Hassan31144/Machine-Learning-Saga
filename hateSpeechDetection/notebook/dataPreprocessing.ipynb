{
 "cells": [
  {
   "cell_type": "code",
   "execution_count": null,
   "metadata": {},
   "outputs": [],
   "source": [
    "import pandas as pd\n",
    "import nltk\n",
    "from nltk.corpus import stopwords\n",
    "from nltk.stem import WordNetLemmatizer\n",
    "from sklearn.model_selection import train_test_split\n",
    "from sklearn.feature_extraction.text import TfidfVectorizer\n",
    "from sklearn.tree import DecisionTreeClassifier\n",
    "from sklearn.metrics import accuracy_score, precision_score, recall_score, f1_score, confusion_matrix\n",
    "import matplotlib.pyplot as plt\n",
    "import seaborn as sns\n",
    "\n",
    "# Download necessary NLTK data\n",
    "nltk.download('stopwords')\n",
    "nltk.download('wordnet')\n",
    "\n",
    "# Load the dataset\n",
    "data = pd.read_csv('/content/drive/MyDrive/Project-Name/text_classification/data/raw/text_dataset.csv')\n",
    "\n",
    "# Check the first few rows\n",
    "print(data.head())\n",
    "\n",
    "# Preprocess the text data\n",
    "stop_words = set(stopwords.words('english'))\n",
    "lemmatizer = WordNetLemmatizer()\n",
    "\n",
    "def preprocess_text(text):\n",
    "    tokens = nltk.word_tokenize(text)\n",
    "    tokens = [lemmatizer.lemmatize(token) for token in tokens if token.isalpha() and token not in stop_words]\n",
    "    return ' '.join(tokens)\n",
    "\n",
    "data['text'] = data['text'].apply(preprocess_text)\n",
    "\n",
    "# Split the dataset into training and testing sets\n",
    "X_train, X_test, y_train, y_test = train_test_split(data['text'], data['label'], test_size=0.2, random_state=42)\n",
    "\n",
    "# Convert text data to TF-IDF features\n",
    "vectorizer = TfidfVectorizer(max_features=10000)\n",
    "X_train_tfidf = vectorizer.fit_transform(X_train)\n",
    "X_test_tfidf = vectorizer.transform(X_test)\n",
    "\n",
    "# Save the processed data\n",
    "processed_data_path = '/content/drive/MyDrive/Project-Name/text_classification/data/processed/'\n",
    "X_train_df = pd.DataFrame(X_train_tfidf.toarray())\n",
    "X_test_df = pd.DataFrame(X_test_tfidf.toarray())\n",
    "X_train_df.to_csv(processed_data_path + 'X_train.csv', index=False)\n",
    "X_test_df.to_csv(processed_data_path + 'X_test.csv', index=False)\n",
    "pd.DataFrame(y_train).to_csv(processed_data_path + 'y_train.csv', index=False)\n",
    "pd.DataFrame(y_test).to_csv(processed_data_path + 'y_test.csv', index=False)\n",
    "\n",
    "print(\"Data preprocessing completed and saved.\")\n"
   ]
  }
 ],
 "metadata": {
  "language_info": {
   "name": "python"
  }
 },
 "nbformat": 4,
 "nbformat_minor": 2
}
