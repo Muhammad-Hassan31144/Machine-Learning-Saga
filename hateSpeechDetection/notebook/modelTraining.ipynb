{
 "cells": [
  {
   "cell_type": "code",
   "execution_count": null,
   "metadata": {},
   "outputs": [],
   "source": [
    "import pandas as pd\n",
    "from sklearn.tree import DecisionTreeClassifier\n",
    "from sklearn.metrics import accuracy_score, precision_score, recall_score, f1_score, confusion_matrix\n",
    "import matplotlib.pyplot as plt\n",
    "import seaborn as sns\n",
    "\n",
    "# Load the processed data\n",
    "processed_data_path = '/content/drive/MyDrive/Project-Name/text_classification/data/processed/'\n",
    "X_train = pd.read_csv(processed_data_path + 'X_train.csv').values\n",
    "X_test = pd.read_csv(processed_data_path + 'X_test.csv').values\n",
    "y_train = pd.read_csv(processed_data_path + 'y_train.csv').values.ravel()\n",
    "y_test = pd.read_csv(processed_data_path + 'y_test.csv').values.ravel()\n",
    "\n",
    "# Train the Decision Tree model\n",
    "dt = DecisionTreeClassifier()\n",
    "dt.fit(X_train, y_train)\n",
    "\n",
    "# Save the trained model\n",
    "import joblib\n",
    "model_path = '/content/drive/MyDrive/Project-Name/text_classification/models/decision_tree_model.pkl'\n",
    "joblib.dump(dt, model_path)\n",
    "\n",
    "print(\"Model training completed and saved.\")\n"
   ]
  }
 ],
 "metadata": {
  "language_info": {
   "name": "python"
  }
 },
 "nbformat": 4,
 "nbformat_minor": 2
}
