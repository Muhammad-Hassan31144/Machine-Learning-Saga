{
 "cells": [
  {
   "cell_type": "code",
   "execution_count": null,
   "metadata": {},
   "outputs": [],
   "source": [
    "import pandas as pd\n",
    "from sklearn.model_selection import train_test_split\n",
    "from sklearn.preprocessing import StandardScaler\n",
    "\n",
    "# Load the dataset\n",
    "# Example: data = pd.read_csv('/content/drive/MyDrive/Project-Name/numeric/data/raw/numeric_dataset.csv')\n",
    "data = pd.read_csv('path/to/your/numeric_dataset.csv')\n",
    "\n",
    "# Check the first few rows\n",
    "print(data.head())\n",
    "\n",
    "# Assume the last column is the target variable\n",
    "X = data.iloc[:, :-1].values\n",
    "y = data.iloc[:, -1].values\n",
    "\n",
    "# Split the dataset into training and testing sets\n",
    "X_train, X_test, y_train, y_test = train_test_split(X, y, test_size=0.2, random_state=42)\n",
    "\n",
    "# Standardize the features\n",
    "scaler = StandardScaler()\n",
    "X_train = scaler.fit_transform(X_train)\n",
    "X_test = scaler.transform(X_test)\n",
    "\n",
    "# Save the processed data\n",
    "processed_data_path = '/content/drive/MyDrive/Project-Name/numeric/data/processed/'\n",
    "pd.DataFrame(X_train).to_csv(processed_data_path + 'X_train.csv', index=False)\n",
    "pd.DataFrame(X_test).to_csv(processed_data_path + 'X_test.csv', index=False)\n",
    "pd.DataFrame(y_train).to_csv(processed_data_path + 'y_train.csv', index=False)\n",
    "pd.DataFrame(y_test).to_csv(processed_data_path + 'y_test.csv', index=False)\n",
    "\n",
    "print(\"Data preprocessing completed and saved.\")\n"
   ]
  }
 ],
 "metadata": {
  "language_info": {
   "name": "python"
  }
 },
 "nbformat": 4,
 "nbformat_minor": 2
}
